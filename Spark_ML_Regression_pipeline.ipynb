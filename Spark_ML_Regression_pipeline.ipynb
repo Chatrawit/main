{
  "cells": [
    {
      "cell_type": "markdown",
      "metadata": {
        "id": "view-in-github",
        "colab_type": "text"
      },
      "source": [
        "<a href=\"https://colab.research.google.com/github/Chatrawit/main/blob/main/Spark_ML_Regression_pipeline.ipynb\" target=\"_parent\"><img src=\"https://colab.research.google.com/assets/colab-badge.svg\" alt=\"Open In Colab\"/></a>"
      ]
    },
    {
      "cell_type": "code",
      "source": [
        "# Installing required packages\n",
        "!pip install pyspark\n",
        "!pip install findspark"
      ],
      "metadata": {
        "colab": {
          "base_uri": "https://localhost:8080/"
        },
        "id": "FAtJ8Jh_z-7t",
        "outputId": "a7eb42e4-1fa4-451f-f122-159796f0bcf8"
      },
      "execution_count": null,
      "outputs": [
        {
          "output_type": "stream",
          "name": "stdout",
          "text": [
            "Looking in indexes: https://pypi.org/simple, https://us-python.pkg.dev/colab-wheels/public/simple/\n",
            "Collecting pyspark\n",
            "  Downloading pyspark-3.3.2.tar.gz (281.4 MB)\n",
            "\u001b[2K     \u001b[90m━━━━━━━━━━━━━━━━━━━━━━━━━━━━━━━━━━━━━━━\u001b[0m \u001b[32m281.4/281.4 MB\u001b[0m \u001b[31m4.3 MB/s\u001b[0m eta \u001b[36m0:00:00\u001b[0m\n",
            "\u001b[?25h  Preparing metadata (setup.py) ... \u001b[?25l\u001b[?25hdone\n",
            "Collecting py4j==0.10.9.5\n",
            "  Downloading py4j-0.10.9.5-py2.py3-none-any.whl (199 kB)\n",
            "\u001b[2K     \u001b[90m━━━━━━━━━━━━━━━━━━━━━━━━━━━━━━━━━━━━━━\u001b[0m \u001b[32m199.7/199.7 KB\u001b[0m \u001b[31m22.2 MB/s\u001b[0m eta \u001b[36m0:00:00\u001b[0m\n",
            "\u001b[?25hBuilding wheels for collected packages: pyspark\n",
            "  Building wheel for pyspark (setup.py) ... \u001b[?25l\u001b[?25hdone\n",
            "  Created wheel for pyspark: filename=pyspark-3.3.2-py2.py3-none-any.whl size=281824028 sha256=a2a4d268083b49abeea787d3d6892dbd2e2e7fa16a06ac7f055ebce4731eefed\n",
            "  Stored in directory: /root/.cache/pip/wheels/6c/e3/9b/0525ce8a69478916513509d43693511463c6468db0de237c86\n",
            "Successfully built pyspark\n",
            "Installing collected packages: py4j, pyspark\n",
            "  Attempting uninstall: py4j\n",
            "    Found existing installation: py4j 0.10.9.7\n",
            "    Uninstalling py4j-0.10.9.7:\n",
            "      Successfully uninstalled py4j-0.10.9.7\n",
            "Successfully installed py4j-0.10.9.5 pyspark-3.3.2\n",
            "Looking in indexes: https://pypi.org/simple, https://us-python.pkg.dev/colab-wheels/public/simple/\n",
            "Collecting findspark\n",
            "  Downloading findspark-2.0.1-py2.py3-none-any.whl (4.4 kB)\n",
            "Installing collected packages: findspark\n",
            "Successfully installed findspark-2.0.1\n"
          ]
        }
      ]
    },
    {
      "cell_type": "code",
      "source": [
        "from pyspark import SparkContext, SparkConf\n",
        "from pyspark.sql import SparkSession"
      ],
      "metadata": {
        "id": "e34Q4qnfz-y8"
      },
      "execution_count": null,
      "outputs": []
    },
    {
      "cell_type": "code",
      "execution_count": null,
      "metadata": {
        "collapsed": true,
        "id": "sqOwMWgOwBGi"
      },
      "outputs": [],
      "source": [
        "from pyspark.sql import SQLContext"
      ]
    },
    {
      "cell_type": "code",
      "source": [
        "spark = SparkSession \\\n",
        "    .builder \\\n",
        "    .appName(\"ML_test\") \\\n",
        "    .getOrCreate()"
      ],
      "metadata": {
        "id": "eCkhgiSsYqtX"
      },
      "execution_count": null,
      "outputs": []
    },
    {
      "cell_type": "code",
      "source": [],
      "metadata": {
        "id": "APMwXSxaa_yA"
      },
      "execution_count": null,
      "outputs": []
    },
    {
      "cell_type": "markdown",
      "source": [
        "# Create Spark Context"
      ],
      "metadata": {
        "id": "xDOcBO-rkuPB"
      }
    },
    {
      "cell_type": "code",
      "execution_count": null,
      "metadata": {
        "collapsed": true,
        "colab": {
          "base_uri": "https://localhost:8080/"
        },
        "id": "H0fnixykwBGl",
        "outputId": "16f77446-be06-4e57-c6f6-24bd6fcb4ac5"
      },
      "outputs": [
        {
          "output_type": "stream",
          "name": "stderr",
          "text": [
            "/usr/local/lib/python3.9/dist-packages/pyspark/sql/context.py:112: FutureWarning: Deprecated in 3.0.0. Use SparkSession.builder.getOrCreate() instead.\n",
            "  warnings.warn(\n"
          ]
        }
      ],
      "source": [
        "sc = spark.sparkContext\n",
        "\n",
        "\n",
        "sqlContext = SQLContext(sc)"
      ]
    },
    {
      "cell_type": "code",
      "source": [
        "from google.colab import files\n",
        "\n",
        "\n",
        "uploaded = files.upload()\n"
      ],
      "metadata": {
        "colab": {
          "base_uri": "https://localhost:8080/",
          "height": 73
        },
        "id": "FWglhYsLwPL0",
        "outputId": "c94ed38e-0e06-470e-e67e-a20b7374d9be"
      },
      "execution_count": null,
      "outputs": [
        {
          "output_type": "display_data",
          "data": {
            "text/plain": [
              "<IPython.core.display.HTML object>"
            ],
            "text/html": [
              "\n",
              "     <input type=\"file\" id=\"files-2ca1a178-5118-4bee-a716-622ed907b27f\" name=\"files[]\" multiple disabled\n",
              "        style=\"border:none\" />\n",
              "     <output id=\"result-2ca1a178-5118-4bee-a716-622ed907b27f\">\n",
              "      Upload widget is only available when the cell has been executed in the\n",
              "      current browser session. Please rerun this cell to enable.\n",
              "      </output>\n",
              "      <script>// Copyright 2017 Google LLC\n",
              "//\n",
              "// Licensed under the Apache License, Version 2.0 (the \"License\");\n",
              "// you may not use this file except in compliance with the License.\n",
              "// You may obtain a copy of the License at\n",
              "//\n",
              "//      http://www.apache.org/licenses/LICENSE-2.0\n",
              "//\n",
              "// Unless required by applicable law or agreed to in writing, software\n",
              "// distributed under the License is distributed on an \"AS IS\" BASIS,\n",
              "// WITHOUT WARRANTIES OR CONDITIONS OF ANY KIND, either express or implied.\n",
              "// See the License for the specific language governing permissions and\n",
              "// limitations under the License.\n",
              "\n",
              "/**\n",
              " * @fileoverview Helpers for google.colab Python module.\n",
              " */\n",
              "(function(scope) {\n",
              "function span(text, styleAttributes = {}) {\n",
              "  const element = document.createElement('span');\n",
              "  element.textContent = text;\n",
              "  for (const key of Object.keys(styleAttributes)) {\n",
              "    element.style[key] = styleAttributes[key];\n",
              "  }\n",
              "  return element;\n",
              "}\n",
              "\n",
              "// Max number of bytes which will be uploaded at a time.\n",
              "const MAX_PAYLOAD_SIZE = 100 * 1024;\n",
              "\n",
              "function _uploadFiles(inputId, outputId) {\n",
              "  const steps = uploadFilesStep(inputId, outputId);\n",
              "  const outputElement = document.getElementById(outputId);\n",
              "  // Cache steps on the outputElement to make it available for the next call\n",
              "  // to uploadFilesContinue from Python.\n",
              "  outputElement.steps = steps;\n",
              "\n",
              "  return _uploadFilesContinue(outputId);\n",
              "}\n",
              "\n",
              "// This is roughly an async generator (not supported in the browser yet),\n",
              "// where there are multiple asynchronous steps and the Python side is going\n",
              "// to poll for completion of each step.\n",
              "// This uses a Promise to block the python side on completion of each step,\n",
              "// then passes the result of the previous step as the input to the next step.\n",
              "function _uploadFilesContinue(outputId) {\n",
              "  const outputElement = document.getElementById(outputId);\n",
              "  const steps = outputElement.steps;\n",
              "\n",
              "  const next = steps.next(outputElement.lastPromiseValue);\n",
              "  return Promise.resolve(next.value.promise).then((value) => {\n",
              "    // Cache the last promise value to make it available to the next\n",
              "    // step of the generator.\n",
              "    outputElement.lastPromiseValue = value;\n",
              "    return next.value.response;\n",
              "  });\n",
              "}\n",
              "\n",
              "/**\n",
              " * Generator function which is called between each async step of the upload\n",
              " * process.\n",
              " * @param {string} inputId Element ID of the input file picker element.\n",
              " * @param {string} outputId Element ID of the output display.\n",
              " * @return {!Iterable<!Object>} Iterable of next steps.\n",
              " */\n",
              "function* uploadFilesStep(inputId, outputId) {\n",
              "  const inputElement = document.getElementById(inputId);\n",
              "  inputElement.disabled = false;\n",
              "\n",
              "  const outputElement = document.getElementById(outputId);\n",
              "  outputElement.innerHTML = '';\n",
              "\n",
              "  const pickedPromise = new Promise((resolve) => {\n",
              "    inputElement.addEventListener('change', (e) => {\n",
              "      resolve(e.target.files);\n",
              "    });\n",
              "  });\n",
              "\n",
              "  const cancel = document.createElement('button');\n",
              "  inputElement.parentElement.appendChild(cancel);\n",
              "  cancel.textContent = 'Cancel upload';\n",
              "  const cancelPromise = new Promise((resolve) => {\n",
              "    cancel.onclick = () => {\n",
              "      resolve(null);\n",
              "    };\n",
              "  });\n",
              "\n",
              "  // Wait for the user to pick the files.\n",
              "  const files = yield {\n",
              "    promise: Promise.race([pickedPromise, cancelPromise]),\n",
              "    response: {\n",
              "      action: 'starting',\n",
              "    }\n",
              "  };\n",
              "\n",
              "  cancel.remove();\n",
              "\n",
              "  // Disable the input element since further picks are not allowed.\n",
              "  inputElement.disabled = true;\n",
              "\n",
              "  if (!files) {\n",
              "    return {\n",
              "      response: {\n",
              "        action: 'complete',\n",
              "      }\n",
              "    };\n",
              "  }\n",
              "\n",
              "  for (const file of files) {\n",
              "    const li = document.createElement('li');\n",
              "    li.append(span(file.name, {fontWeight: 'bold'}));\n",
              "    li.append(span(\n",
              "        `(${file.type || 'n/a'}) - ${file.size} bytes, ` +\n",
              "        `last modified: ${\n",
              "            file.lastModifiedDate ? file.lastModifiedDate.toLocaleDateString() :\n",
              "                                    'n/a'} - `));\n",
              "    const percent = span('0% done');\n",
              "    li.appendChild(percent);\n",
              "\n",
              "    outputElement.appendChild(li);\n",
              "\n",
              "    const fileDataPromise = new Promise((resolve) => {\n",
              "      const reader = new FileReader();\n",
              "      reader.onload = (e) => {\n",
              "        resolve(e.target.result);\n",
              "      };\n",
              "      reader.readAsArrayBuffer(file);\n",
              "    });\n",
              "    // Wait for the data to be ready.\n",
              "    let fileData = yield {\n",
              "      promise: fileDataPromise,\n",
              "      response: {\n",
              "        action: 'continue',\n",
              "      }\n",
              "    };\n",
              "\n",
              "    // Use a chunked sending to avoid message size limits. See b/62115660.\n",
              "    let position = 0;\n",
              "    do {\n",
              "      const length = Math.min(fileData.byteLength - position, MAX_PAYLOAD_SIZE);\n",
              "      const chunk = new Uint8Array(fileData, position, length);\n",
              "      position += length;\n",
              "\n",
              "      const base64 = btoa(String.fromCharCode.apply(null, chunk));\n",
              "      yield {\n",
              "        response: {\n",
              "          action: 'append',\n",
              "          file: file.name,\n",
              "          data: base64,\n",
              "        },\n",
              "      };\n",
              "\n",
              "      let percentDone = fileData.byteLength === 0 ?\n",
              "          100 :\n",
              "          Math.round((position / fileData.byteLength) * 100);\n",
              "      percent.textContent = `${percentDone}% done`;\n",
              "\n",
              "    } while (position < fileData.byteLength);\n",
              "  }\n",
              "\n",
              "  // All done.\n",
              "  yield {\n",
              "    response: {\n",
              "      action: 'complete',\n",
              "    }\n",
              "  };\n",
              "}\n",
              "\n",
              "scope.google = scope.google || {};\n",
              "scope.google.colab = scope.google.colab || {};\n",
              "scope.google.colab._files = {\n",
              "  _uploadFiles,\n",
              "  _uploadFilesContinue,\n",
              "};\n",
              "})(self);\n",
              "</script> "
            ]
          },
          "metadata": {}
        },
        {
          "output_type": "stream",
          "name": "stdout",
          "text": [
            "Saving daily_weather.csv to daily_weather.csv\n"
          ]
        }
      ]
    },
    {
      "cell_type": "markdown",
      "source": [],
      "metadata": {
        "id": "Ac8MHqWOkyvb"
      }
    },
    {
      "cell_type": "code",
      "execution_count": null,
      "metadata": {
        "collapsed": true,
        "id": "ZWAofGUswBGl"
      },
      "outputs": [],
      "source": [
        "file='daily_weather.csv'\n",
        "\n",
        "df = sqlContext.read.load(file,\n",
        "                          format='com.databricks.spark.csv', \n",
        "                          header='true',inferSchema='true')"
      ]
    },
    {
      "cell_type": "code",
      "execution_count": null,
      "metadata": {
        "id": "FftXD3KOwBGo"
      },
      "outputs": [],
      "source": [
        "from pyspark.ml import Pipeline\n"
      ]
    },
    {
      "cell_type": "markdown",
      "source": [
        "#  Regression"
      ],
      "metadata": {
        "id": "HmX1U1HX2i3n"
      }
    },
    {
      "cell_type": "code",
      "source": [
        "from pyspark.sql import DataFrameNaFunctions\n",
        "from pyspark.ml.feature import VectorAssembler\n",
        "from pyspark.ml.regression import LinearRegression\n",
        "from pyspark.ml import Pipeline\n"
      ],
      "metadata": {
        "id": "ElV2ZP113G1R"
      },
      "execution_count": null,
      "outputs": []
    },
    {
      "cell_type": "code",
      "source": [
        "df = df.drop('number')\n",
        "df = df.na.drop() "
      ],
      "metadata": {
        "id": "JmeX3IdIsJpB"
      },
      "execution_count": null,
      "outputs": []
    },
    {
      "cell_type": "code",
      "source": [
        "featureColumns =df.columns[:-2]"
      ],
      "metadata": {
        "id": "sYN7FgzfsBM2"
      },
      "execution_count": null,
      "outputs": []
    },
    {
      "cell_type": "code",
      "source": [
        "(trainingData, testData) = df.randomSplit([0.8,0.2], seed = 13234 )"
      ],
      "metadata": {
        "id": "VeIxCMoJsUyi"
      },
      "execution_count": null,
      "outputs": []
    },
    {
      "cell_type": "code",
      "source": [
        "\n",
        "\n",
        "df=df.withColumnRenamed(\"relative_humidity_3pm\",\"label\")\n",
        "assembler = VectorAssembler(inputCols=featureColumns, outputCol=\"features\")\n",
        "lr = LinearRegression()\n",
        "pipeline = Pipeline(stages=[assembler, lr])"
      ],
      "metadata": {
        "id": "bS6X46ZgVHAo"
      },
      "execution_count": null,
      "outputs": []
    },
    {
      "cell_type": "code",
      "source": [],
      "metadata": {
        "id": "6L9rO_pYsfug"
      },
      "execution_count": null,
      "outputs": []
    },
    {
      "cell_type": "code",
      "source": [
        "model = pipeline.fit(trainingData)\n"
      ],
      "metadata": {
        "id": "Tm3VSlxNWCqf"
      },
      "execution_count": null,
      "outputs": []
    },
    {
      "cell_type": "code",
      "source": [
        "prediction = model.transform(testData)\n"
      ],
      "metadata": {
        "id": "ewFec9G6YDO9"
      },
      "execution_count": null,
      "outputs": []
    },
    {
      "cell_type": "code",
      "source": [
        "prediction.show()"
      ],
      "metadata": {
        "colab": {
          "base_uri": "https://localhost:8080/"
        },
        "id": "HK268ey5mi62",
        "outputId": "f01452c9-75f2-495e-edff-2cf9e3efa248"
      },
      "execution_count": null,
      "outputs": [
        {
          "output_type": "stream",
          "name": "stdout",
          "text": [
            "+-----------------+------------------+----------------------+------------------+----------------------+------------------+---------------------+-----------------+---------------------+------------------+--------------------+------------------+\n",
            "| air_pressure_9am|      air_temp_9am|avg_wind_direction_9am|avg_wind_speed_9am|max_wind_direction_9am|max_wind_speed_9am|rain_accumulation_9am|rain_duration_9am|relative_humidity_9am|             label|            features|        prediction|\n",
            "+-----------------+------------------+----------------------+------------------+----------------------+------------------+---------------------+-----------------+---------------------+------------------+--------------------+------------------+\n",
            "|911.2700000000134| 59.82800000000221|    218.30000000000004| 2.259309399999348|    235.89999999999992|2.9751301999997906|                  0.0|              0.0|    86.73000000000106| 54.06000000000101|[911.270000000013...| 69.31446556132505|\n",
            "|912.3000000000123| 74.55200000000218|    164.40000000000003| 3.758059199999348|    182.79999999999993| 4.809420999999785|                  0.0|              0.0|    34.16000000000103| 56.60000000000103|[912.300000000012...| 47.05583869897373|\n",
            "|912.4100000000079|47.480000000000494|     61.40000000000005| 8.634588399999732|      73.3999999999999| 10.64783439999989|  0.10000000000002274|            400.0|    73.83000000000001|             78.01|[912.410000000007...| 66.25235474155261|\n",
            "|912.6000000000056|58.406000000005385|                 172.7|3.8251673999998177|    189.09999999999994| 4.764682200000045|                  0.0|              0.0|    64.84000000000013| 58.28000000000014|[912.600000000005...| 63.82424741217437|\n",
            "|912.7900000000027| 41.48600000000511|                 171.0| 8.612219000000037|    204.09999999999994|11.520241000000029|                  0.0|             20.0|    91.28000000000016| 91.34000000000015|[912.790000000002...| 74.26974687399843|\n",
            "|912.8000000000028|42.512000000004505|                 190.8|11.386024599999987|    198.09999999999994| 12.72818860000003|                  0.0|              0.0|    89.77000000000022| 80.87000000000023|[912.800000000002...| 81.48210625090906|\n",
            "|913.2000000000087| 63.37400000000071|    178.80000000000004| 7.225316199999735|    189.69999999999993| 8.500371999999858|                  0.0|              0.0|    49.18000000000034| 47.99000000000034|[913.200000000008...| 56.92027772822348|\n",
            "|913.2600000000074| 48.25399999999728|    235.90000000000003|11.497871599999748|    252.59999999999994|14.182199599999905|                  0.0|            150.0|    89.74999999999996| 88.55999999999996|[913.260000000007...| 71.47105587986016|\n",
            "|913.3200000000039| 79.21400000000408|                  95.9| 2.840913799999711|    129.09999999999985| 4.115969599999901|                  0.0|              0.0|   17.690000000000072|13.690000000000074|[913.320000000003...|34.519697913741766|\n",
            "|913.4900000000082| 65.39000000000061|    172.30000000000004| 2.639589199999711|    187.49999999999991|3.4448875999997695|                  0.0|              0.0|   51.060000000000535|56.050000000000495|[913.490000000008...| 54.16776803907851|\n",
            "|913.5200000000128| 62.51000000000219|    182.90000000000003|   8.3214167999995|    189.09999999999994| 9.305670399999793|                  0.0|              0.0|    40.25000000000101|48.890000000001024|[913.520000000012...|  58.7124650268629|\n",
            "|914.0600000000077| 68.63000000000036|    180.00000000000009| 3.981753199999849|    200.19999999999993| 5.077853799999885|                  0.0|              0.0|     59.2100000000005|54.180000000000454|[914.060000000007...| 49.08777466543961|\n",
            "|914.0700000000016|  47.0480000000014|                 319.9|3.7356898000000327|                 229.9|4.9212679999999045|   2.0300000000000864|           5930.0|    92.14000000000016| 73.08000000000013|[914.070000000001...| 81.48663875405919|\n",
            "|914.1543889307161| 81.51024958998009|    125.45329363044172| 2.651553969151767|    141.83704393298507|3.4169366759458146|                  0.0|              0.0|   20.231644328237177|23.634849837346575|[914.154388930716...|33.079644752918284|\n",
            "|914.3000000000073|  48.1819999999985|    177.50000000000009| 2.483003399999765|    203.39999999999992| 3.176454799999926|                  0.0|              0.0|    90.97000000000068| 90.65000000000073|[914.300000000007...| 70.87944181724697|\n",
            "|914.3600000000116| 59.91800000000239|    175.30000000000004| 4.876529199999446|    187.79999999999993|5.8607827999997575|                  0.0|              0.0|    74.25000000000122| 66.63000000000122|[914.360000000011...| 57.47629948941585|\n",
            "|914.4000000000128| 79.91600000000203|    174.40000000000003|3.9370143999993656|    190.79999999999993| 4.898898599999784|                  0.0|              0.0|    25.39000000000106|31.600000000001053|[914.400000000012...| 36.56941023832405|\n",
            "|914.4600000000073|  76.8740000000002|    113.60000000000004|  1.29742519999984|    131.99999999999991| 2.080354199999883|                  0.0|              0.0|    56.39000000000044| 45.55000000000043|[914.460000000007...| 35.76529207805106|\n",
            "|914.5600000000135| 76.22600000000237|    173.30000000000004| 6.643711799999371|    185.39999999999992|  8.05298399999977|                  0.0|              0.0|   25.840000000001073| 33.88000000000106|[914.560000000013...| 38.68256024704624|\n",
            "|914.6000000000071| 62.36600000000452|                 200.4|1.5882273999997953|    234.99999999999986|         2.1027236|                  0.0|              0.0|    86.60000000000021| 58.25000000000021|[914.600000000007...| 57.61541429042745|\n",
            "+-----------------+------------------+----------------------+------------------+----------------------+------------------+---------------------+-----------------+---------------------+------------------+--------------------+------------------+\n",
            "only showing top 20 rows\n",
            "\n"
          ]
        }
      ]
    },
    {
      "cell_type": "code",
      "source": [
        "prediction.select('label','prediction').show()"
      ],
      "metadata": {
        "colab": {
          "base_uri": "https://localhost:8080/"
        },
        "id": "gHdGUXMXsglv",
        "outputId": "ed9ff0d1-03bf-4738-d50d-a2495193dbda"
      },
      "execution_count": null,
      "outputs": [
        {
          "output_type": "stream",
          "name": "stdout",
          "text": [
            "+------------------+------------------+\n",
            "|             label|        prediction|\n",
            "+------------------+------------------+\n",
            "| 54.06000000000101| 69.31446556132505|\n",
            "| 56.60000000000103| 47.05583869897373|\n",
            "|             78.01| 66.25235474155261|\n",
            "| 58.28000000000014| 63.82424741217437|\n",
            "| 91.34000000000015| 74.26974687399843|\n",
            "| 80.87000000000023| 81.48210625090906|\n",
            "| 47.99000000000034| 56.92027772822348|\n",
            "| 88.55999999999996| 71.47105587986016|\n",
            "|13.690000000000074|34.519697913741766|\n",
            "|56.050000000000495| 54.16776803907851|\n",
            "|48.890000000001024|  58.7124650268629|\n",
            "|54.180000000000454| 49.08777466543961|\n",
            "| 73.08000000000013| 81.48663875405919|\n",
            "|23.634849837346575|33.079644752918284|\n",
            "| 90.65000000000073| 70.87944181724697|\n",
            "| 66.63000000000122| 57.47629948941585|\n",
            "|31.600000000001053| 36.56941023832405|\n",
            "| 45.55000000000043| 35.76529207805106|\n",
            "| 33.88000000000106| 38.68256024704624|\n",
            "| 58.25000000000021| 57.61541429042745|\n",
            "+------------------+------------------+\n",
            "only showing top 20 rows\n",
            "\n"
          ]
        }
      ]
    },
    {
      "cell_type": "code",
      "source": [],
      "metadata": {
        "id": "rz4y2Qt9sxU5"
      },
      "execution_count": null,
      "outputs": []
    },
    {
      "cell_type": "code",
      "source": [
        "sc.stop()"
      ],
      "metadata": {
        "id": "NZpZEfWNF03K"
      },
      "execution_count": null,
      "outputs": []
    },
    {
      "cell_type": "code",
      "source": [],
      "metadata": {
        "id": "7hhYSZboG22_"
      },
      "execution_count": null,
      "outputs": []
    }
  ],
  "metadata": {
    "kernelspec": {
      "display_name": "Python 3",
      "language": "python",
      "name": "python3"
    },
    "language_info": {
      "codemirror_mode": {
        "name": "ipython",
        "version": 3
      },
      "file_extension": ".py",
      "mimetype": "text/x-python",
      "name": "python",
      "nbconvert_exporter": "python",
      "pygments_lexer": "ipython3",
      "version": "3.5.1"
    },
    "colab": {
      "provenance": [],
      "include_colab_link": true
    }
  },
  "nbformat": 4,
  "nbformat_minor": 0
}